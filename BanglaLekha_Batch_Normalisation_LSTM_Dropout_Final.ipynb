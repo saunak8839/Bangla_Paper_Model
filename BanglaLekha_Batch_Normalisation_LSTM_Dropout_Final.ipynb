{
  "cells": [
    {
      "cell_type": "markdown",
      "metadata": {
        "id": "view-in-github",
        "colab_type": "text"
      },
      "source": [
        "<a href=\"https://colab.research.google.com/github/saunak8839/Bangla_Paper_Model/blob/master/BanglaLekha_Batch_Normalisation_LSTM_Dropout_Final.ipynb\" target=\"_parent\"><img src=\"https://colab.research.google.com/assets/colab-badge.svg\" alt=\"Open In Colab\"/></a>"
      ]
    },
    {
      "cell_type": "code",
      "execution_count": 1,
      "metadata": {
        "colab": {
          "base_uri": "https://localhost:8080/"
        },
        "id": "AWg7UiM4Jksv",
        "outputId": "31f911ff-774e-4d2e-c929-637c7054a613"
      },
      "outputs": [
        {
          "output_type": "stream",
          "name": "stdout",
          "text": [
            "Mounted at /content/drive\n"
          ]
        }
      ],
      "source": [
        "from google.colab import drive\n",
        "drive.mount('/content/drive')"
      ]
    },
    {
      "cell_type": "code",
      "source": [
        "!unzip drive/MyDrive/BanglaLekha-Isolated> /dev/null"
      ],
      "metadata": {
        "id": "RzGcxDjaKss1"
      },
      "execution_count": 4,
      "outputs": []
    },
    {
      "cell_type": "code",
      "source": [
        "pip install tensorflow-addons"
      ],
      "metadata": {
        "colab": {
          "base_uri": "https://localhost:8080/"
        },
        "id": "tPqBKf9EKs84",
        "outputId": "6ed5bcd2-27a5-44fe-a9eb-45dd91dd97dd"
      },
      "execution_count": 5,
      "outputs": [
        {
          "output_type": "stream",
          "name": "stdout",
          "text": [
            "Looking in indexes: https://pypi.org/simple, https://us-python.pkg.dev/colab-wheels/public/simple/\n",
            "Collecting tensorflow-addons\n",
            "  Downloading tensorflow_addons-0.20.0-cp310-cp310-manylinux_2_17_x86_64.manylinux2014_x86_64.whl (591 kB)\n",
            "\u001b[2K     \u001b[90m━━━━━━━━━━━━━━━━━━━━━━━━━━━━━━━━━━━━━━━\u001b[0m \u001b[32m591.0/591.0 kB\u001b[0m \u001b[31m9.1 MB/s\u001b[0m eta \u001b[36m0:00:00\u001b[0m\n",
            "\u001b[?25hRequirement already satisfied: packaging in /usr/local/lib/python3.10/dist-packages (from tensorflow-addons) (23.1)\n",
            "Collecting typeguard<3.0.0,>=2.7 (from tensorflow-addons)\n",
            "  Downloading typeguard-2.13.3-py3-none-any.whl (17 kB)\n",
            "Installing collected packages: typeguard, tensorflow-addons\n",
            "Successfully installed tensorflow-addons-0.20.0 typeguard-2.13.3\n"
          ]
        }
      ]
    },
    {
      "cell_type": "code",
      "source": [
        "!pip install tensorflow-addons --upgrade"
      ],
      "metadata": {
        "colab": {
          "base_uri": "https://localhost:8080/"
        },
        "id": "UY-q2qTXKtJQ",
        "outputId": "156114e5-4ed8-4545-acc5-33a04deae30b"
      },
      "execution_count": 6,
      "outputs": [
        {
          "output_type": "stream",
          "name": "stdout",
          "text": [
            "Looking in indexes: https://pypi.org/simple, https://us-python.pkg.dev/colab-wheels/public/simple/\n",
            "Requirement already satisfied: tensorflow-addons in /usr/local/lib/python3.10/dist-packages (0.20.0)\n",
            "Requirement already satisfied: packaging in /usr/local/lib/python3.10/dist-packages (from tensorflow-addons) (23.1)\n",
            "Requirement already satisfied: typeguard<3.0.0,>=2.7 in /usr/local/lib/python3.10/dist-packages (from tensorflow-addons) (2.13.3)\n"
          ]
        }
      ]
    },
    {
      "cell_type": "code",
      "source": [
        "from keras.models import Sequential\n",
        "from keras.layers import Conv2D, MaxPooling2D, Flatten, Dense, Dropout\n",
        "import tensorflow as tf\n",
        "from tensorflow.keras.callbacks import EarlyStopping\n",
        "from tensorflow.keras.optimizers import Adam\n",
        "from sklearn.pipeline import Pipeline\n",
        "from sklearn.svm import SVC\n",
        "from sklearn.decomposition import PCA\n",
        "import os\n",
        "import cv2\n",
        "from PIL import ImageFile,Image\n",
        "import numpy as np\n",
        "from tensorflow.keras.models import Sequential\n",
        "from tensorflow.keras.layers import Dense, BatchNormalization, Conv2D, MaxPooling2D, Reshape, LSTM\n",
        "from tensorflow.keras.callbacks import ReduceLROnPlateau"
      ],
      "metadata": {
        "id": "JmB4vU2mKtUa"
      },
      "execution_count": 25,
      "outputs": []
    },
    {
      "cell_type": "code",
      "source": [
        "pip install split-folders"
      ],
      "metadata": {
        "colab": {
          "base_uri": "https://localhost:8080/"
        },
        "id": "budj_I_HKtf1",
        "outputId": "e66f6ec7-b82f-4ad1-9710-ac3c1850974f"
      },
      "execution_count": 8,
      "outputs": [
        {
          "output_type": "stream",
          "name": "stdout",
          "text": [
            "Looking in indexes: https://pypi.org/simple, https://us-python.pkg.dev/colab-wheels/public/simple/\n",
            "Collecting split-folders\n",
            "  Downloading split_folders-0.5.1-py3-none-any.whl (8.4 kB)\n",
            "Installing collected packages: split-folders\n",
            "Successfully installed split-folders-0.5.1\n"
          ]
        }
      ]
    },
    {
      "cell_type": "code",
      "source": [
        "import splitfolders"
      ],
      "metadata": {
        "id": "t6W7STA7Ktqv"
      },
      "execution_count": 9,
      "outputs": []
    },
    {
      "cell_type": "code",
      "source": [
        "splitfolders.ratio(\"/content/BanglaLekha-Isolated/Images\", output=\"BanglaLekha_dataset\",\n",
        "    seed=1337, ratio=(.7,.1,.2), group_prefix=None, move=False)"
      ],
      "metadata": {
        "colab": {
          "base_uri": "https://localhost:8080/"
        },
        "id": "0d2rdQQ-Kt2h",
        "outputId": "deeac8cd-dd00-4de6-a1ef-a5c86f6c6bfc"
      },
      "execution_count": 10,
      "outputs": [
        {
          "output_type": "stream",
          "name": "stderr",
          "text": [
            "Copying files: 98950 files [00:14, 7028.86 files/s]\n"
          ]
        }
      ]
    },
    {
      "cell_type": "code",
      "source": [
        "classifier = Sequential()\n",
        "\n",
        "classifier.add(Conv2D(filters = 32, kernel_size = (3, 3), strides = (1,1), padding = \"same\", input_shape = (28, 28, 1)))\n",
        "classifier.add(tf.keras.layers.LeakyReLU(alpha=0.1))\n",
        "classifier.add(BatchNormalization())\n",
        "classifier.add(MaxPooling2D(pool_size = (2, 2), padding = \"valid\"))\n",
        "classifier.add(Dropout(.2))\n",
        "\n",
        "classifier.add(Conv2D(filters = 64, kernel_size = (3, 3), strides = (1,1), padding = \"same\"))\n",
        "classifier.add(tf.keras.layers.LeakyReLU(alpha=0.1))\n",
        "classifier.add(BatchNormalization())\n",
        "classifier.add(MaxPooling2D(pool_size = (2, 2), padding = \"valid\"))\n",
        "classifier.add(Dropout(.2))\n",
        "\n",
        "classifier.add(Conv2D(filters = 128, kernel_size = (3, 3), strides = (1,1), padding = \"same\"))\n",
        "classifier.add(tf.keras.layers.LeakyReLU(alpha=0.1))\n",
        "classifier.add(BatchNormalization())\n",
        "classifier.add(MaxPooling2D(pool_size = (2, 2), padding = \"valid\"))\n",
        "classifier.add(Dropout(.2))\n",
        "\n",
        "classifier.add(Reshape((3,3*128),input_shape=(3,3,128)))\n",
        "classifier.add(LSTM(128, return_sequences=True))\n",
        "\n",
        "classifier.add(Flatten())\n",
        "\n",
        "classifier.add(Dense(units = 128))\n",
        "classifier.add(tf.keras.layers.LeakyReLU(alpha=0.1))\n",
        "classifier.add(Dropout(.2))\n",
        "\n",
        "classifier.add(Dense(units = 64))\n",
        "classifier.add(tf.keras.layers.LeakyReLU(alpha=0.1))\n",
        "classifier.add(Dropout(.2))\n",
        "\n",
        "classifier.add(Dense(units = 50, activation = 'softmax'))\n",
        "\n",
        "opt=tf.keras.optimizers.Adadelta(learning_rate=0.1, rho=0.95)              \n",
        "classifier.compile(optimizer = opt, loss = 'categorical_crossentropy', metrics = ['accuracy'])"
      ],
      "metadata": {
        "id": "SEmwHO21KuCh"
      },
      "execution_count": 14,
      "outputs": []
    },
    {
      "cell_type": "code",
      "source": [
        "classifier.summary()"
      ],
      "metadata": {
        "colab": {
          "base_uri": "https://localhost:8080/"
        },
        "id": "6Z7fw275KuNd",
        "outputId": "581a8144-0cf8-4f62-d014-1eb99d1fb14a"
      },
      "execution_count": 15,
      "outputs": [
        {
          "output_type": "stream",
          "name": "stdout",
          "text": [
            "Model: \"sequential_2\"\n",
            "_________________________________________________________________\n",
            " Layer (type)                Output Shape              Param #   \n",
            "=================================================================\n",
            " conv2d_6 (Conv2D)           (None, 28, 28, 32)        320       \n",
            "                                                                 \n",
            " leaky_re_lu_8 (LeakyReLU)   (None, 28, 28, 32)        0         \n",
            "                                                                 \n",
            " batch_normalization_6 (Batc  (None, 28, 28, 32)       128       \n",
            " hNormalization)                                                 \n",
            "                                                                 \n",
            " max_pooling2d_6 (MaxPooling  (None, 14, 14, 32)       0         \n",
            " 2D)                                                             \n",
            "                                                                 \n",
            " dropout_8 (Dropout)         (None, 14, 14, 32)        0         \n",
            "                                                                 \n",
            " conv2d_7 (Conv2D)           (None, 14, 14, 64)        18496     \n",
            "                                                                 \n",
            " leaky_re_lu_9 (LeakyReLU)   (None, 14, 14, 64)        0         \n",
            "                                                                 \n",
            " batch_normalization_7 (Batc  (None, 14, 14, 64)       256       \n",
            " hNormalization)                                                 \n",
            "                                                                 \n",
            " max_pooling2d_7 (MaxPooling  (None, 7, 7, 64)         0         \n",
            " 2D)                                                             \n",
            "                                                                 \n",
            " dropout_9 (Dropout)         (None, 7, 7, 64)          0         \n",
            "                                                                 \n",
            " conv2d_8 (Conv2D)           (None, 7, 7, 128)         73856     \n",
            "                                                                 \n",
            " leaky_re_lu_10 (LeakyReLU)  (None, 7, 7, 128)         0         \n",
            "                                                                 \n",
            " batch_normalization_8 (Batc  (None, 7, 7, 128)        512       \n",
            " hNormalization)                                                 \n",
            "                                                                 \n",
            " max_pooling2d_8 (MaxPooling  (None, 3, 3, 128)        0         \n",
            " 2D)                                                             \n",
            "                                                                 \n",
            " dropout_10 (Dropout)        (None, 3, 3, 128)         0         \n",
            "                                                                 \n",
            " reshape_1 (Reshape)         (None, 3, 384)            0         \n",
            "                                                                 \n",
            " lstm_1 (LSTM)               (None, 3, 128)            262656    \n",
            "                                                                 \n",
            " flatten_1 (Flatten)         (None, 384)               0         \n",
            "                                                                 \n",
            " dense_3 (Dense)             (None, 128)               49280     \n",
            "                                                                 \n",
            " leaky_re_lu_11 (LeakyReLU)  (None, 128)               0         \n",
            "                                                                 \n",
            " dropout_11 (Dropout)        (None, 128)               0         \n",
            "                                                                 \n",
            " dense_4 (Dense)             (None, 64)                8256      \n",
            "                                                                 \n",
            " leaky_re_lu_12 (LeakyReLU)  (None, 64)                0         \n",
            "                                                                 \n",
            " dropout_12 (Dropout)        (None, 64)                0         \n",
            "                                                                 \n",
            " dense_5 (Dense)             (None, 50)                3250      \n",
            "                                                                 \n",
            "=================================================================\n",
            "Total params: 417,010\n",
            "Trainable params: 416,562\n",
            "Non-trainable params: 448\n",
            "_________________________________________________________________\n"
          ]
        }
      ]
    },
    {
      "cell_type": "code",
      "source": [
        "train_folder = \"/content/BanglaLekha_dataset/train\"\n",
        "val_folder = \"/content/BanglaLekha_dataset/val\"\n",
        "test_folder = \"/content/BanglaLekha_dataset/test\""
      ],
      "metadata": {
        "id": "WYauPaYNKuZI"
      },
      "execution_count": 16,
      "outputs": []
    },
    {
      "cell_type": "code",
      "source": [
        "from keras.preprocessing.image import ImageDataGenerator\n",
        "from PIL import Image"
      ],
      "metadata": {
        "id": "GJWR5VpCMlCS"
      },
      "execution_count": 17,
      "outputs": []
    },
    {
      "cell_type": "code",
      "source": [
        "Image.LOAD_TRUNCATED_IMAGES = True\n",
        "\n",
        "\n",
        "train_datagen = ImageDataGenerator(shear_range = .2, rotation_range = 25)\n",
        "val_datagen = ImageDataGenerator()\n",
        "test_datagen = ImageDataGenerator()\n",
        "\n",
        "train_set = train_datagen.flow_from_directory(train_folder, target_size = (28, 28), \n",
        "                                                 batch_size = 32, class_mode = 'categorical',color_mode=\"grayscale\")\n",
        "val_set = val_datagen.flow_from_directory(val_folder, target_size = (28, 28), \n",
        "                                                 batch_size = 32, class_mode = 'categorical',color_mode=\"grayscale\")\n",
        "test_set = test_datagen.flow_from_directory(test_folder, target_size = (28, 28), \n",
        "                                                 batch_size = 32, class_mode = 'categorical',color_mode=\"grayscale\")"
      ],
      "metadata": {
        "colab": {
          "base_uri": "https://localhost:8080/"
        },
        "id": "27x2K9fTMlTK",
        "outputId": "e62a3e2e-a71e-4caa-fbfa-fdbd9c8dde37"
      },
      "execution_count": 18,
      "outputs": [
        {
          "output_type": "stream",
          "name": "stdout",
          "text": [
            "Found 69244 images belonging to 50 classes.\n",
            "Found 9877 images belonging to 50 classes.\n",
            "Found 19829 images belonging to 50 classes.\n"
          ]
        }
      ]
    },
    {
      "cell_type": "code",
      "source": [
        "history=classifier.fit(train_set, steps_per_epoch = len(train_set), epochs = 50,\n",
        "                        validation_data = val_set, validation_steps = len(val_set))\n",
        "classifier.save_weights('train_weights1.h5')"
      ],
      "metadata": {
        "colab": {
          "base_uri": "https://localhost:8080/"
        },
        "id": "fnzpdCPuMlf5",
        "outputId": "847bb2c4-aa4d-4600-ed69-d07fdd64815e"
      },
      "execution_count": 19,
      "outputs": [
        {
          "output_type": "stream",
          "name": "stdout",
          "text": [
            "Epoch 1/50\n",
            "2164/2164 [==============================] - 79s 30ms/step - loss: 3.1609 - accuracy: 0.1570 - val_loss: 1.9730 - val_accuracy: 0.4445\n",
            "Epoch 2/50\n",
            "2164/2164 [==============================] - 61s 28ms/step - loss: 2.0534 - accuracy: 0.3953 - val_loss: 1.1989 - val_accuracy: 0.6713\n",
            "Epoch 3/50\n",
            "2164/2164 [==============================] - 62s 29ms/step - loss: 1.5441 - accuracy: 0.5338 - val_loss: 0.9036 - val_accuracy: 0.7506\n",
            "Epoch 4/50\n",
            "2164/2164 [==============================] - 62s 29ms/step - loss: 1.2623 - accuracy: 0.6198 - val_loss: 0.7701 - val_accuracy: 0.7748\n",
            "Epoch 5/50\n",
            "2164/2164 [==============================] - 65s 30ms/step - loss: 1.0906 - accuracy: 0.6719 - val_loss: 0.6440 - val_accuracy: 0.8173\n",
            "Epoch 6/50\n",
            "2164/2164 [==============================] - 63s 29ms/step - loss: 0.9730 - accuracy: 0.7099 - val_loss: 0.6023 - val_accuracy: 0.8285\n",
            "Epoch 7/50\n",
            "2164/2164 [==============================] - 65s 30ms/step - loss: 0.8856 - accuracy: 0.7392 - val_loss: 0.5631 - val_accuracy: 0.8385\n",
            "Epoch 8/50\n",
            "2164/2164 [==============================] - 62s 29ms/step - loss: 0.8156 - accuracy: 0.7581 - val_loss: 0.5232 - val_accuracy: 0.8505\n",
            "Epoch 9/50\n",
            "2164/2164 [==============================] - 63s 29ms/step - loss: 0.7607 - accuracy: 0.7748 - val_loss: 0.4832 - val_accuracy: 0.8644\n",
            "Epoch 10/50\n",
            "2164/2164 [==============================] - 62s 29ms/step - loss: 0.7183 - accuracy: 0.7886 - val_loss: 0.4812 - val_accuracy: 0.8645\n",
            "Epoch 11/50\n",
            "2164/2164 [==============================] - 65s 30ms/step - loss: 0.6887 - accuracy: 0.7980 - val_loss: 0.4569 - val_accuracy: 0.8681\n",
            "Epoch 12/50\n",
            "2164/2164 [==============================] - 61s 28ms/step - loss: 0.6517 - accuracy: 0.8091 - val_loss: 0.4424 - val_accuracy: 0.8743\n",
            "Epoch 13/50\n",
            "2164/2164 [==============================] - 70s 32ms/step - loss: 0.6248 - accuracy: 0.8164 - val_loss: 0.4338 - val_accuracy: 0.8767\n",
            "Epoch 14/50\n",
            "2164/2164 [==============================] - 62s 29ms/step - loss: 0.6028 - accuracy: 0.8249 - val_loss: 0.4308 - val_accuracy: 0.8794\n",
            "Epoch 15/50\n",
            "2164/2164 [==============================] - 65s 30ms/step - loss: 0.5846 - accuracy: 0.8293 - val_loss: 0.4189 - val_accuracy: 0.8839\n",
            "Epoch 16/50\n",
            "2164/2164 [==============================] - 62s 29ms/step - loss: 0.5678 - accuracy: 0.8349 - val_loss: 0.4149 - val_accuracy: 0.8842\n",
            "Epoch 17/50\n",
            "2164/2164 [==============================] - 62s 28ms/step - loss: 0.5576 - accuracy: 0.8369 - val_loss: 0.3966 - val_accuracy: 0.8885\n",
            "Epoch 18/50\n",
            "2164/2164 [==============================] - 62s 29ms/step - loss: 0.5460 - accuracy: 0.8414 - val_loss: 0.3958 - val_accuracy: 0.8903\n",
            "Epoch 19/50\n",
            "2164/2164 [==============================] - 65s 30ms/step - loss: 0.5289 - accuracy: 0.8464 - val_loss: 0.3889 - val_accuracy: 0.8931\n",
            "Epoch 20/50\n",
            "2164/2164 [==============================] - 62s 29ms/step - loss: 0.5202 - accuracy: 0.8484 - val_loss: 0.4000 - val_accuracy: 0.8896\n",
            "Epoch 21/50\n",
            "2164/2164 [==============================] - 63s 29ms/step - loss: 0.5041 - accuracy: 0.8542 - val_loss: 0.3920 - val_accuracy: 0.8921\n",
            "Epoch 22/50\n",
            "2164/2164 [==============================] - 62s 29ms/step - loss: 0.4988 - accuracy: 0.8555 - val_loss: 0.3914 - val_accuracy: 0.8922\n",
            "Epoch 23/50\n",
            "2164/2164 [==============================] - 67s 31ms/step - loss: 0.4870 - accuracy: 0.8603 - val_loss: 0.3802 - val_accuracy: 0.8959\n",
            "Epoch 24/50\n",
            "2164/2164 [==============================] - 63s 29ms/step - loss: 0.4782 - accuracy: 0.8613 - val_loss: 0.3794 - val_accuracy: 0.8944\n",
            "Epoch 25/50\n",
            "2164/2164 [==============================] - 69s 32ms/step - loss: 0.4729 - accuracy: 0.8628 - val_loss: 0.3700 - val_accuracy: 0.8991\n",
            "Epoch 26/50\n",
            "2164/2164 [==============================] - 63s 29ms/step - loss: 0.4680 - accuracy: 0.8646 - val_loss: 0.3720 - val_accuracy: 0.8990\n",
            "Epoch 27/50\n",
            "2164/2164 [==============================] - 66s 30ms/step - loss: 0.4596 - accuracy: 0.8687 - val_loss: 0.3688 - val_accuracy: 0.9004\n",
            "Epoch 28/50\n",
            "2164/2164 [==============================] - 64s 29ms/step - loss: 0.4469 - accuracy: 0.8704 - val_loss: 0.3765 - val_accuracy: 0.9007\n",
            "Epoch 29/50\n",
            "2164/2164 [==============================] - 62s 29ms/step - loss: 0.4390 - accuracy: 0.8717 - val_loss: 0.3683 - val_accuracy: 0.9012\n",
            "Epoch 30/50\n",
            "2164/2164 [==============================] - 64s 29ms/step - loss: 0.4394 - accuracy: 0.8735 - val_loss: 0.3641 - val_accuracy: 0.9030\n",
            "Epoch 31/50\n",
            "2164/2164 [==============================] - 63s 29ms/step - loss: 0.4344 - accuracy: 0.8751 - val_loss: 0.3568 - val_accuracy: 0.9061\n",
            "Epoch 32/50\n",
            "2164/2164 [==============================] - 63s 29ms/step - loss: 0.4275 - accuracy: 0.8771 - val_loss: 0.3567 - val_accuracy: 0.9037\n",
            "Epoch 33/50\n",
            "2164/2164 [==============================] - 64s 30ms/step - loss: 0.4242 - accuracy: 0.8787 - val_loss: 0.3538 - val_accuracy: 0.9042\n",
            "Epoch 34/50\n",
            "2164/2164 [==============================] - 64s 30ms/step - loss: 0.4224 - accuracy: 0.8777 - val_loss: 0.3527 - val_accuracy: 0.9063\n",
            "Epoch 35/50\n",
            "2164/2164 [==============================] - 69s 32ms/step - loss: 0.4089 - accuracy: 0.8818 - val_loss: 0.3526 - val_accuracy: 0.9052\n",
            "Epoch 36/50\n",
            "2164/2164 [==============================] - 64s 30ms/step - loss: 0.4121 - accuracy: 0.8802 - val_loss: 0.3529 - val_accuracy: 0.9059\n",
            "Epoch 37/50\n",
            "2164/2164 [==============================] - 64s 30ms/step - loss: 0.4052 - accuracy: 0.8822 - val_loss: 0.3576 - val_accuracy: 0.9034\n",
            "Epoch 38/50\n",
            "2164/2164 [==============================] - 65s 30ms/step - loss: 0.4016 - accuracy: 0.8848 - val_loss: 0.3494 - val_accuracy: 0.9068\n",
            "Epoch 39/50\n",
            "2164/2164 [==============================] - 62s 29ms/step - loss: 0.3961 - accuracy: 0.8843 - val_loss: 0.3517 - val_accuracy: 0.9071\n",
            "Epoch 40/50\n",
            "2164/2164 [==============================] - 64s 30ms/step - loss: 0.3956 - accuracy: 0.8857 - val_loss: 0.3486 - val_accuracy: 0.9073\n",
            "Epoch 41/50\n",
            "2164/2164 [==============================] - 64s 30ms/step - loss: 0.3933 - accuracy: 0.8877 - val_loss: 0.3589 - val_accuracy: 0.9060\n",
            "Epoch 42/50\n",
            "2164/2164 [==============================] - 64s 30ms/step - loss: 0.3854 - accuracy: 0.8890 - val_loss: 0.3507 - val_accuracy: 0.9084\n",
            "Epoch 43/50\n",
            "2164/2164 [==============================] - 68s 31ms/step - loss: 0.3843 - accuracy: 0.8898 - val_loss: 0.3489 - val_accuracy: 0.9095\n",
            "Epoch 44/50\n",
            "2164/2164 [==============================] - 63s 29ms/step - loss: 0.3801 - accuracy: 0.8905 - val_loss: 0.3472 - val_accuracy: 0.9095\n",
            "Epoch 45/50\n",
            "2164/2164 [==============================] - 63s 29ms/step - loss: 0.3779 - accuracy: 0.8908 - val_loss: 0.3481 - val_accuracy: 0.9100\n",
            "Epoch 46/50\n",
            "2164/2164 [==============================] - 64s 30ms/step - loss: 0.3767 - accuracy: 0.8916 - val_loss: 0.3420 - val_accuracy: 0.9098\n",
            "Epoch 47/50\n",
            "2164/2164 [==============================] - 66s 31ms/step - loss: 0.3713 - accuracy: 0.8934 - val_loss: 0.3476 - val_accuracy: 0.9110\n",
            "Epoch 48/50\n",
            "2164/2164 [==============================] - 65s 30ms/step - loss: 0.3698 - accuracy: 0.8947 - val_loss: 0.3494 - val_accuracy: 0.9101\n",
            "Epoch 49/50\n",
            "2164/2164 [==============================] - 67s 31ms/step - loss: 0.3644 - accuracy: 0.8953 - val_loss: 0.3495 - val_accuracy: 0.9103\n",
            "Epoch 50/50\n",
            "2164/2164 [==============================] - 68s 31ms/step - loss: 0.3640 - accuracy: 0.8950 - val_loss: 0.3464 - val_accuracy: 0.9115\n"
          ]
        }
      ]
    },
    {
      "cell_type": "code",
      "source": [
        "classifier.evaluate(test_set)"
      ],
      "metadata": {
        "colab": {
          "base_uri": "https://localhost:8080/"
        },
        "id": "BVCeA20BMlr8",
        "outputId": "b6d48f32-0476-4bac-927b-db0920415eca"
      },
      "execution_count": 20,
      "outputs": [
        {
          "output_type": "stream",
          "name": "stdout",
          "text": [
            "620/620 [==============================] - 10s 17ms/step - loss: 0.2765 - accuracy: 0.9257\n"
          ]
        },
        {
          "output_type": "execute_result",
          "data": {
            "text/plain": [
              "[0.27653440833091736, 0.9256644248962402]"
            ]
          },
          "metadata": {},
          "execution_count": 20
        }
      ]
    },
    {
      "cell_type": "code",
      "source": [
        "from tensorflow.keras import regularizers"
      ],
      "metadata": {
        "id": "SCFseha8Ml5D"
      },
      "execution_count": null,
      "outputs": []
    },
    {
      "cell_type": "code",
      "source": [
        "from matplotlib import pyplot as plt\n",
        "plt.plot(history.history['accuracy'])\n",
        "plt.plot(history.history['val_accuracy'])\n",
        "plt.title('Training Accuracy vs Validation Accuracy')\n",
        "plt.ylabel('accuracy')\n",
        "plt.xlabel('epoch')\n",
        "plt.legend(['training', 'validation'], loc='lower right')\n",
        "plt.show()"
      ],
      "metadata": {
        "colab": {
          "base_uri": "https://localhost:8080/",
          "height": 472
        },
        "id": "RVXsq7poMmG5",
        "outputId": "6cb49e3e-ca97-45f9-e602-5e36b6195394"
      },
      "execution_count": null,
      "outputs": [
        {
          "output_type": "display_data",
          "data": {
            "text/plain": [
              "<Figure size 640x480 with 1 Axes>"
            ],
            "image/png": "[encoded data removed]"
          },
          "metadata": {}
        }
      ]
    },
    {
      "cell_type": "code",
      "source": [
        "plt.plot(history.history['loss'])\n",
        "plt.plot(history.history['val_loss'])\n",
        "plt.title('Training Loss vs Validation Loss')\n",
        "plt.ylabel('loss')\n",
        "plt.xlabel('epochs')\n",
        "plt.legend(['training', 'validation'], loc='upper right')\n",
        "plt.show()"
      ],
      "metadata": {
        "colab": {
          "base_uri": "https://localhost:8080/",
          "height": 472
        },
        "id": "m_3bXr2MaRKL",
        "outputId": "db3882d0-eee9-447f-e6fe-c6f9e356d574"
      },
      "execution_count": null,
      "outputs": [
        {
          "output_type": "display_data",
          "data": {
            "text/plain": [
              "<Figure size 640x480 with 1 Axes>"
            ],
            "image/png": "[encoded data removed]"
          },
          "metadata": {}
        }
      ]
    },
    {
      "cell_type": "code",
      "source": [
        "classifier.load_weights('train_weights3.h5')\n",
        "reduce_lr = ReduceLROnPlateau(monitor='val_loss', factor=0.2,\n",
        "                              patience=5, min_lr=0.001)\n",
        "history3=classifier.fit(train_set, steps_per_epoch = len(train_set), epochs = 30,\n",
        "                        validation_data = val_set, validation_steps = len(val_set),callbacks=[reduce_lr])\n",
        "classifier.save_weights('train_weights4.h5')"
      ],
      "metadata": {
        "colab": {
          "base_uri": "https://localhost:8080/"
        },
        "id": "2k3lvRA0aRgW",
        "outputId": "124cac43-a672-4197-e1a9-4aaeff32887a"
      },
      "execution_count": 26,
      "outputs": [
        {
          "output_type": "stream",
          "name": "stdout",
          "text": [
            "Epoch 1/30\n",
            "2164/2164 [==============================] - 68s 31ms/step - loss: 0.2819 - accuracy: 0.9192 - val_loss: 0.3880 - val_accuracy: 0.9166 - lr: 0.1000\n",
            "Epoch 2/30\n",
            "2164/2164 [==============================] - 63s 29ms/step - loss: 0.2813 - accuracy: 0.9200 - val_loss: 0.3869 - val_accuracy: 0.9174 - lr: 0.1000\n",
            "Epoch 3/30\n",
            "2164/2164 [==============================] - 64s 30ms/step - loss: 0.2822 - accuracy: 0.9192 - val_loss: 0.3781 - val_accuracy: 0.9167 - lr: 0.1000\n",
            "Epoch 4/30\n",
            "2164/2164 [==============================] - 64s 30ms/step - loss: 0.2831 - accuracy: 0.9190 - val_loss: 0.3838 - val_accuracy: 0.9141 - lr: 0.1000\n",
            "Epoch 5/30\n",
            "2164/2164 [==============================] - 64s 29ms/step - loss: 0.2813 - accuracy: 0.9187 - val_loss: 0.3824 - val_accuracy: 0.9151 - lr: 0.1000\n",
            "Epoch 6/30\n",
            "2164/2164 [==============================] - 64s 30ms/step - loss: 0.2805 - accuracy: 0.9206 - val_loss: 0.3806 - val_accuracy: 0.9161 - lr: 0.1000\n",
            "Epoch 7/30\n",
            "2164/2164 [==============================] - 64s 30ms/step - loss: 0.2805 - accuracy: 0.9202 - val_loss: 0.3904 - val_accuracy: 0.9156 - lr: 0.1000\n",
            "Epoch 8/30\n",
            "2164/2164 [==============================] - 66s 31ms/step - loss: 0.2784 - accuracy: 0.9204 - val_loss: 0.3907 - val_accuracy: 0.9136 - lr: 0.1000\n",
            "Epoch 9/30\n",
            "2164/2164 [==============================] - 64s 30ms/step - loss: 0.2722 - accuracy: 0.9224 - val_loss: 0.3839 - val_accuracy: 0.9169 - lr: 0.0200\n",
            "Epoch 10/30\n",
            "2164/2164 [==============================] - 66s 31ms/step - loss: 0.2671 - accuracy: 0.9229 - val_loss: 0.3855 - val_accuracy: 0.9160 - lr: 0.0200\n",
            "Epoch 11/30\n",
            "2164/2164 [==============================] - 67s 31ms/step - loss: 0.2669 - accuracy: 0.9229 - val_loss: 0.3855 - val_accuracy: 0.9154 - lr: 0.0200\n",
            "Epoch 12/30\n",
            "2164/2164 [==============================] - 63s 29ms/step - loss: 0.2656 - accuracy: 0.9244 - val_loss: 0.3869 - val_accuracy: 0.9157 - lr: 0.0200\n",
            "Epoch 13/30\n",
            "2164/2164 [==============================] - 64s 30ms/step - loss: 0.2642 - accuracy: 0.9249 - val_loss: 0.3890 - val_accuracy: 0.9161 - lr: 0.0200\n",
            "Epoch 14/30\n",
            "2164/2164 [==============================] - 62s 29ms/step - loss: 0.2635 - accuracy: 0.9243 - val_loss: 0.3865 - val_accuracy: 0.9161 - lr: 0.0040\n",
            "Epoch 15/30\n",
            "2164/2164 [==============================] - 66s 30ms/step - loss: 0.2606 - accuracy: 0.9247 - val_loss: 0.3876 - val_accuracy: 0.9158 - lr: 0.0040\n",
            "Epoch 16/30\n",
            "2164/2164 [==============================] - 63s 29ms/step - loss: 0.2671 - accuracy: 0.9231 - val_loss: 0.3852 - val_accuracy: 0.9154 - lr: 0.0040\n",
            "Epoch 17/30\n",
            "2164/2164 [==============================] - 64s 30ms/step - loss: 0.2678 - accuracy: 0.9236 - val_loss: 0.3849 - val_accuracy: 0.9160 - lr: 0.0040\n",
            "Epoch 18/30\n",
            "2164/2164 [==============================] - 62s 29ms/step - loss: 0.2564 - accuracy: 0.9261 - val_loss: 0.3857 - val_accuracy: 0.9166 - lr: 0.0040\n",
            "Epoch 19/30\n",
            "2164/2164 [==============================] - 64s 30ms/step - loss: 0.2597 - accuracy: 0.9251 - val_loss: 0.3855 - val_accuracy: 0.9168 - lr: 0.0010\n",
            "Epoch 20/30\n",
            "2164/2164 [==============================] - 65s 30ms/step - loss: 0.2598 - accuracy: 0.9254 - val_loss: 0.3861 - val_accuracy: 0.9161 - lr: 0.0010\n",
            "Epoch 21/30\n",
            "2164/2164 [==============================] - 64s 30ms/step - loss: 0.2610 - accuracy: 0.9247 - val_loss: 0.3848 - val_accuracy: 0.9165 - lr: 0.0010\n",
            "Epoch 22/30\n",
            "2164/2164 [==============================] - 66s 30ms/step - loss: 0.2636 - accuracy: 0.9242 - val_loss: 0.3842 - val_accuracy: 0.9162 - lr: 0.0010\n",
            "Epoch 23/30\n",
            "2164/2164 [==============================] - 63s 29ms/step - loss: 0.2608 - accuracy: 0.9251 - val_loss: 0.3847 - val_accuracy: 0.9165 - lr: 0.0010\n",
            "Epoch 24/30\n",
            "2164/2164 [==============================] - 62s 29ms/step - loss: 0.2643 - accuracy: 0.9237 - val_loss: 0.3853 - val_accuracy: 0.9160 - lr: 0.0010\n",
            "Epoch 25/30\n",
            "2164/2164 [==============================] - 71s 33ms/step - loss: 0.2607 - accuracy: 0.9249 - val_loss: 0.3843 - val_accuracy: 0.9164 - lr: 0.0010\n",
            "Epoch 26/30\n",
            "2164/2164 [==============================] - 69s 32ms/step - loss: 0.2582 - accuracy: 0.9257 - val_loss: 0.3845 - val_accuracy: 0.9167 - lr: 0.0010\n",
            "Epoch 27/30\n",
            "2164/2164 [==============================] - 66s 31ms/step - loss: 0.2661 - accuracy: 0.9246 - val_loss: 0.3845 - val_accuracy: 0.9160 - lr: 0.0010\n",
            "Epoch 28/30\n",
            "2164/2164 [==============================] - 69s 32ms/step - loss: 0.2648 - accuracy: 0.9246 - val_loss: 0.3843 - val_accuracy: 0.9164 - lr: 0.0010\n",
            "Epoch 29/30\n",
            "2164/2164 [==============================] - 73s 34ms/step - loss: 0.2613 - accuracy: 0.9241 - val_loss: 0.3843 - val_accuracy: 0.9167 - lr: 0.0010\n",
            "Epoch 30/30\n",
            "2164/2164 [==============================] - 72s 33ms/step - loss: 0.2614 - accuracy: 0.9250 - val_loss: 0.3846 - val_accuracy: 0.9165 - lr: 0.0010\n"
          ]
        }
      ]
    },
    {
      "cell_type": "code",
      "source": [
        "classifier.evaluate(test_set)"
      ],
      "metadata": {
        "colab": {
          "base_uri": "https://localhost:8080/"
        },
        "id": "K79_p-4yaRyS",
        "outputId": "5c711710-9403-4e96-e19f-5a4f21f83c23"
      },
      "execution_count": 27,
      "outputs": [
        {
          "output_type": "stream",
          "name": "stdout",
          "text": [
            "620/620 [==============================] - 11s 17ms/step - loss: 0.2989 - accuracy: 0.9323\n"
          ]
        },
        {
          "output_type": "execute_result",
          "data": {
            "text/plain": [
              "[0.29885756969451904, 0.9323213696479797]"
            ]
          },
          "metadata": {},
          "execution_count": 27
        }
      ]
    },
    {
      "cell_type": "code",
      "source": [
        "from matplotlib import pyplot as plt\n",
        "\n",
        "combined_accuracy = []\n",
        "combined_val_accuracy = []\n",
        "\n",
        "# Combine the data from all history variables\n",
        "for history in [history, history1, history2, history3]:\n",
        "    combined_accuracy += history.history['accuracy']\n",
        "    combined_val_accuracy += history.history['val_accuracy']\n",
        "\n",
        "plt.figure(figsize=(10, 6))  # Optional: Set the figure size\n",
        "\n",
        "# Plotting the combined accuracy\n",
        "plt.plot(combined_accuracy)\n",
        "\n",
        "# Plotting the combined validation accuracy\n",
        "plt.plot(combined_val_accuracy)\n",
        "\n",
        "# Add labels and legend\n",
        "plt.title('Training Accuracy vs Validation Accuracy')\n",
        "plt.ylabel('accuracy')\n",
        "plt.xlabel('epoch')\n",
        "plt.legend(['training', 'validation'], loc='lower right')\n",
        "\n",
        "plt.show()\n"
      ],
      "metadata": {
        "id": "9iecpthmaSCw",
        "colab": {
          "base_uri": "https://localhost:8080/",
          "height": 564
        },
        "outputId": "af872895-d3e1-4cf7-8a7c-3335bce14998"
      },
      "execution_count": 29,
      "outputs": [
        {
          "output_type": "display_data",
          "data": {
            "text/plain": [
              "<Figure size 1000x600 with 1 Axes>"
            ],
            "image/png": "[encoded data removed]"
          },
          "metadata": {}
        }
      ]
    }
  ],
  "metadata": {
    "accelerator": "GPU",
    "colab": {
      "provenance": [],
      "gpuType": "T4",
      "include_colab_link": true
    },
    "gpuClass": "standard",
    "kernelspec": {
      "display_name": "Python 3",
      "name": "python3"
    },
    "language_info": {
      "name": "python"
    }
  },
  "nbformat": 4,
  "nbformat_minor": 0
}