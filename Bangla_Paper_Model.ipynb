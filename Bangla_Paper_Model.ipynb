{
 "cells": [
  {
   "cell_type": "code",
   "execution_count": 5,
   "metadata": {},
   "outputs": [],
   "source": [
    "import pip\n",
    "import tensorflow as tf\n",
    "from tensorflow import keras\n",
    "from keras.models import Sequential\n",
    "from keras.layers import Conv2D,MaxPooling2D,Flatten,Dense,Dropout,BatchNormalization,Softmax,InputLayer\n",
    "import numpy as np\n",
    "import splitfolders\n",
    "from keras.preprocessing.image import ImageDataGenerator\n",
    "from PIL import ImageFile,Image"
   ]
  },
  {
   "cell_type": "markdown",
   "metadata": {},
   "source": [
    "## Model Structure"
   ]
  },
  {
   "cell_type": "code",
   "execution_count": 24,
   "metadata": {},
   "outputs": [],
   "source": [
    "classifier = Sequential()\n",
    "\n",
    "\n",
    "\n",
    "classifier.add(Conv2D(filters = 8 ,strides=(1,1), kernel_size=(3,3),activation='relu',padding='same',input_shape=(32,32,1)))\n",
    "#classifier.add(BatchNormalization())\n",
    "classifier.add(MaxPooling2D(pool_size=(2,2)))\n",
    "\n",
    "classifier.add(Conv2D(filters = 16, kernel_size=(3,3),padding='same',activation='relu'))\n",
    "#classifier.add(BatchNormalization())\n",
    "classifier.add(MaxPooling2D(pool_size=(2,2)))\n",
    "\n",
    "classifier.add(Conv2D(filters = 32, kernel_size=(3,3),padding='same',activation='relu'))\n",
    "#classifier.add(BatchNormalization())\n",
    "classifier.add(MaxPooling2D(pool_size=(2,2)))\n",
    "\n",
    "classifier.add(Flatten())\n",
    "classifier.add(Dense(120))\n",
    "classifier.add(Dense(60,'Softmax'))\n",
    "\n",
    "\n",
    "classifier.compile(optimizer = 'adam', loss = 'categorical_crossentropy', metrics = ['accuracy'])\n",
    "\n"
   ]
  },
  {
   "cell_type": "code",
   "execution_count": 6,
   "metadata": {},
   "outputs": [
    {
     "name": "stderr",
     "output_type": "stream",
     "text": [
      "Copying files: 166105 files [20:54, 132.37 files/s]\n"
     ]
    }
   ],
   "source": [
    "splitfolders.fixed(\"C:\\\\Users\\Saunak\\Desktop\\Image_splitting_test_run\\BanglaLekha-Isolated\\Images\", output=\"output\",\n",
    "    seed=1337, fixed=(1500, 437), oversample=False, group_prefix=None, move=False)"
   ]
  },
  {
   "cell_type": "code",
   "execution_count": 25,
   "metadata": {},
   "outputs": [
    {
     "name": "stdout",
     "output_type": "stream",
     "text": [
      "Model: \"sequential_3\"\n",
      "_________________________________________________________________\n",
      " Layer (type)                Output Shape              Param #   \n",
      "=================================================================\n",
      " conv2d_9 (Conv2D)           (None, 32, 32, 8)         80        \n",
      "                                                                 \n",
      " max_pooling2d_9 (MaxPooling  (None, 16, 16, 8)        0         \n",
      " 2D)                                                             \n",
      "                                                                 \n",
      " conv2d_10 (Conv2D)          (None, 16, 16, 16)        1168      \n",
      "                                                                 \n",
      " max_pooling2d_10 (MaxPoolin  (None, 8, 8, 16)         0         \n",
      " g2D)                                                            \n",
      "                                                                 \n",
      " conv2d_11 (Conv2D)          (None, 8, 8, 32)          4640      \n",
      "                                                                 \n",
      " max_pooling2d_11 (MaxPoolin  (None, 4, 4, 32)         0         \n",
      " g2D)                                                            \n",
      "                                                                 \n",
      " flatten_3 (Flatten)         (None, 512)               0         \n",
      "                                                                 \n",
      " dense_6 (Dense)             (None, 120)               61560     \n",
      "                                                                 \n",
      " dense_7 (Dense)             (None, 60)                7260      \n",
      "                                                                 \n",
      "=================================================================\n",
      "Total params: 74,708\n",
      "Trainable params: 74,708\n",
      "Non-trainable params: 0\n",
      "_________________________________________________________________\n"
     ]
    }
   ],
   "source": [
    "classifier.summary()"
   ]
  },
  {
   "cell_type": "code",
   "execution_count": 26,
   "metadata": {},
   "outputs": [],
   "source": [
    "train_folder = \"output/train1/\"\n",
    "test_folder = \"output/val\""
   ]
  },
  {
   "cell_type": "code",
   "execution_count": 28,
   "metadata": {},
   "outputs": [
    {
     "name": "stdout",
     "output_type": "stream",
     "text": [
      "Found 90000 images belonging to 60 classes.\n",
      "Found 26220 images belonging to 60 classes.\n"
     ]
    }
   ],
   "source": [
    "ImageFile.LOAD_TRUNCATED_IMAGES = True\n",
    "\n",
    "\n",
    "train_datagen = ImageDataGenerator(rescale = 1./255, shear_range = .2, rotation_range = 25)\n",
    "test_datagen = ImageDataGenerator(rescale = 1./255)\n",
    "\n",
    "training_set = train_datagen.flow_from_directory(train_folder, target_size = (32, 32), \n",
    "                                                 batch_size = 1, class_mode = 'categorical',color_mode=\"grayscale\")\n",
    "test_set = test_datagen.flow_from_directory(test_folder, target_size = (32, 32), \n",
    "                                                 batch_size = 1, class_mode = 'categorical',color_mode=\"grayscale\")\n"
   ]
  },
  {
   "cell_type": "code",
   "execution_count": 30,
   "metadata": {},
   "outputs": [
    {
     "name": "stdout",
     "output_type": "stream",
     "text": [
      "Epoch 1/10\n",
      "90000/90000 [==============================] - 385s 4ms/step - loss: 0.8027 - accuracy: 0.7723 - val_loss: 0.7043 - val_accuracy: 0.8061\n",
      "Epoch 2/10\n",
      "90000/90000 [==============================] - 282s 3ms/step - loss: 0.7759 - accuracy: 0.7837 - val_loss: 0.7698 - val_accuracy: 0.7822\n",
      "Epoch 3/10\n",
      "90000/90000 [==============================] - 286s 3ms/step - loss: 0.7638 - accuracy: 0.7864 - val_loss: 0.6981 - val_accuracy: 0.8064\n",
      "Epoch 4/10\n",
      "90000/90000 [==============================] - 277s 3ms/step - loss: 0.7526 - accuracy: 0.7881 - val_loss: 0.7104 - val_accuracy: 0.8103\n",
      "Epoch 5/10\n",
      "90000/90000 [==============================] - 268s 3ms/step - loss: 0.7505 - accuracy: 0.7881 - val_loss: 0.8104 - val_accuracy: 0.7868\n",
      "Epoch 6/10\n",
      "90000/90000 [==============================] - 270s 3ms/step - loss: 0.7443 - accuracy: 0.7899 - val_loss: 0.7451 - val_accuracy: 0.8098\n",
      "Epoch 7/10\n",
      "90000/90000 [==============================] - 272s 3ms/step - loss: 0.7412 - accuracy: 0.7918 - val_loss: 0.7482 - val_accuracy: 0.7877\n",
      "Epoch 8/10\n",
      "90000/90000 [==============================] - 272s 3ms/step - loss: 0.7346 - accuracy: 0.7933 - val_loss: 0.8035 - val_accuracy: 0.8001\n",
      "Epoch 9/10\n",
      "90000/90000 [==============================] - 271s 3ms/step - loss: 0.7335 - accuracy: 0.7946 - val_loss: 0.7216 - val_accuracy: 0.8113\n",
      "Epoch 10/10\n",
      "90000/90000 [==============================] - 270s 3ms/step - loss: 0.7253 - accuracy: 0.7955 - val_loss: 0.6441 - val_accuracy: 0.8224\n"
     ]
    },
    {
     "data": {
      "text/plain": [
       "<keras.callbacks.History at 0x1aff6caeef0>"
      ]
     },
     "execution_count": 30,
     "metadata": {},
     "output_type": "execute_result"
    }
   ],
   "source": [
    "\n",
    "classifier.fit(training_set ,steps_per_epoch = 90000, epochs = 10,\n",
    "                validation_data = test_set, validation_steps = 20000)"
   ]
  },
  {
   "cell_type": "code",
   "execution_count": null,
   "metadata": {},
   "outputs": [],
   "source": [
    "classifier_json = classifier.to_json()\n",
    "\n",
    "with open(\"CNN_Bangla_Paper_Model.json\", \"w\") as json_file:\n",
    "    json_file.write(classifier_json)\n",
    "    \n",
    "classifier.save_weights(\"CNN_Bangla_Paper_Model.h5\")\n",
    "print('Saved model to disk')"
   ]
  }
 ],
 "metadata": {
  "kernelspec": {
   "display_name": "Python 3.10.7 64-bit",
   "language": "python",
   "name": "python3"
  },
  "language_info": {
   "codemirror_mode": {
    "name": "ipython",
    "version": 3
   },
   "file_extension": ".py",
   "mimetype": "text/x-python",
   "name": "python",
   "nbconvert_exporter": "python",
   "pygments_lexer": "ipython3",
   "version": "3.10.7"
  },
  "orig_nbformat": 4,
  "vscode": {
   "interpreter": {
    "hash": "d45f43cf4df4209586cf220d0f9bc2e9e2f42bfdeffbbcd11e52e62333eff2c8"
   }
  }
 },
 "nbformat": 4,
 "nbformat_minor": 2
}
